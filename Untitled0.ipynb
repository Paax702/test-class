{
  "nbformat": 4,
  "nbformat_minor": 0,
  "metadata": {
    "colab": {
      "provenance": [],
      "authorship_tag": "ABX9TyPCPNuz3KejkVBUQPffYvax",
      "include_colab_link": true
    },
    "kernelspec": {
      "name": "python3",
      "display_name": "Python 3"
    },
    "language_info": {
      "name": "python"
    }
  },
  "cells": [
    {
      "cell_type": "markdown",
      "metadata": {
        "id": "view-in-github",
        "colab_type": "text"
      },
      "source": [
        "<a href=\"https://colab.research.google.com/github/Paax702/test-class/blob/main/Untitled0.ipynb\" target=\"_parent\"><img src=\"https://colab.research.google.com/assets/colab-badge.svg\" alt=\"Open In Colab\"/></a>"
      ]
    },
    {
      "cell_type": "code",
      "execution_count": 1,
      "metadata": {
        "id": "_4Bvxhzsm3Dd"
      },
      "outputs": [],
      "source": [
        "a=1\n",
        "b=2\n",
        "c=3\n",
        "\n",
        "d= a + b + c\n"
      ]
    },
    {
      "cell_type": "code",
      "source": [
        "a= 'a person\n",
        "b='walks'\n",
        "c='a dog\n",
        "d= a + b + c"
      ],
      "metadata": {
        "id": "kyf8k8MKs-vm"
      },
      "execution_count": null,
      "outputs": []
    }
  ]
}